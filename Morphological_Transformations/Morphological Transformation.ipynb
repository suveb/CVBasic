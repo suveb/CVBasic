{
 "cells": [
  {
   "cell_type": "markdown",
   "metadata": {},
   "source": [
    "# MORPHOLOGICAL TRANSFORMATION OF IMAGES\n",
    "---\n",
    "\n",
    "*To use Morphological Transform of an image for practical use, we first need to convert the image to threshold binary image.\n",
    "In this program we use inverse binary thresholded image for morphological transform*"
   ]
  },
  {
   "cell_type": "markdown",
   "metadata": {},
   "source": [
    "\n",
    "\n",
    "This will import all the necessary libraries needed in our program"
   ]
  },
  {
   "cell_type": "code",
   "execution_count": 76,
   "metadata": {},
   "outputs": [],
   "source": [
    "import cv2\n",
    "import numpy as np\n",
    "import matplotlib.pyplot as plt"
   ]
  },
  {
   "cell_type": "markdown",
   "metadata": {},
   "source": [
    "\n",
    "\n",
    "* Below code is used to store the path of image and then read image from the path as gray image.\n",
    "* After reading the image, threshold method is used to convert the image such that pixel having value greater than 127 are converted to 0 and pixel having value less than 127 are converted to 255 (THRESH_BINARY_INV)"
   ]
  },
  {
   "cell_type": "code",
   "execution_count": 77,
   "metadata": {},
   "outputs": [],
   "source": [
    "#Storing the path of the image\n",
    "imgpath = '..\\Objects\\lena_color_512.tif'\n",
    "\n",
    "#Reading Image from the path\n",
    "img = cv2.imread( imgpath, 0 )\n",
    "\n",
    "#Converting image to binary inverse threshold at middle value(i.e 127)\n",
    "ret, bin_inv = cv2.threshold( img, 127, 255, cv2.THRESH_BINARY_INV)"
   ]
  },
  {
   "cell_type": "markdown",
   "metadata": {},
   "source": [
    "Using numpy method we create numpy.ndarray object of array having size 5x5 and value of each element 1 which has designated type of unsigned integer of 8 bit\n",
    "\n"
   ]
  },
  {
   "cell_type": "code",
   "execution_count": 78,
   "metadata": {},
   "outputs": [],
   "source": [
    "#Creating Kernel for Morphological Transform\n",
    "k=np.ones( ( 5, 5 ), np.uint8 )"
   ]
  },
  {
   "cell_type": "markdown",
   "metadata": {},
   "source": [
    "---\n",
    "## DILATION\n",
    "\n",
    "*THE DILATION OF AN THRESHOLDED INVERSE BINARY IMAGE IS AN IMAGE IN WHICH WHITE PIXELS EATS SOME OF ITS NEAREST BLACK PIXEL*\n",
    "\n",
    "* The code below is used to get dilation of an image\n",
    "* The more iterations, the more black pixel is eaten"
   ]
  },
  {
   "cell_type": "code",
   "execution_count": 79,
   "metadata": {},
   "outputs": [],
   "source": [
    "#Dilation type Morphological Transform\n",
    "dilate = cv2.dilate( bin_inv, k, iterations = 2 )"
   ]
  },
  {
   "cell_type": "markdown",
   "metadata": {},
   "source": [
    "> The below code is used to plot inverse binary thresholded image as well as dilated image for comparison"
   ]
  },
  {
   "cell_type": "code",
   "execution_count": 80,
   "metadata": {},
   "outputs": [
    {
     "data": {
      "image/png": "[encoded data removed]",
      "text/plain": [
       "<Figure size 432x288 with 2 Axes>"
      ]
     },
     "metadata": {},
     "output_type": "display_data"
    }
   ],
   "source": [
    "#Plotting Inverse Binary Thresholded Image\n",
    "plt.subplot(1,2,1)\n",
    "plt.imshow( bin_inv, cmap ='gray' )\n",
    "plt.title(\"BinaryINV Thresh\")\n",
    "plt.xticks([ ])\n",
    "plt.yticks([ ])\n",
    "\n",
    "#Plotting Dilated Image\n",
    "plt.subplot(1,2,2)\n",
    "plt.imshow( dilate, cmap ='gray' )\n",
    "plt.title(\"Dilation\")\n",
    "plt.xticks([ ])\n",
    "plt.yticks([ ])\n",
    "plt.show()"
   ]
  },
  {
   "cell_type": "markdown",
   "metadata": {},
   "source": [
    "---\n",
    "## EROSION\n",
    "\n",
    "*THE EROSION OF AN THRESHOLDED INVERSE BINARY IMAGE IS AN IMAGE IN WHICH BLACK PIXELS EATS SOME OF ITS NEAREST WHITE PIXEL*\n",
    "\n",
    "* The code below is used to get erosion of an image\n",
    "* The more iterations, the more white pixel is eaten"
   ]
  },
  {
   "cell_type": "code",
   "execution_count": 81,
   "metadata": {},
   "outputs": [],
   "source": [
    "#Erosion type Morphological Transform\n",
    "erode = cv2.erode( bin_inv, k, iterations = 2 )"
   ]
  },
  {
   "cell_type": "markdown",
   "metadata": {},
   "source": [
    "> The below code is used to plot inverse binary thresholded image as well as eroded image for comparison"
   ]
  },
  {
   "cell_type": "code",
   "execution_count": 82,
   "metadata": {},
   "outputs": [
    {
     "data": {
      "image/png": "[encoded data removed]",
      "text/plain": [
       "<Figure size 432x288 with 2 Axes>"
      ]
     },
     "metadata": {},
     "output_type": "display_data"
    }
   ],
   "source": [
    "#Plotting image using Matplotlib\n",
    "plt.subplot(1,2,1)\n",
    "plt.imshow( bin_inv, cmap ='gray' )\n",
    "plt.title(\"BinaryINV Thresh\")\n",
    "plt.xticks([ ])\n",
    "plt.yticks([ ])\n",
    "\n",
    "plt.subplot(1,2,2)\n",
    "plt.imshow( erode, cmap ='gray' )\n",
    "plt.title(\"Erosion\")\n",
    "plt.xticks([ ])\n",
    "plt.yticks([ ])\n",
    "plt.show()"
   ]
  },
  {
   "cell_type": "markdown",
   "metadata": {},
   "source": [
    "---\n",
    "## CLOSING\n",
    "\n",
    "*THE CLOSING OF AN THRESHOLDED INVERSE BINARY IMAGE IS AN IMAGE WHICH IS OBTAINED BY DILATION FOLLOWED BY EROSION*\n",
    "\n",
    "* The code below is used to get closing of an image\n",
    "* It is used to remove pepper noise from an image"
   ]
  },
  {
   "cell_type": "code",
   "execution_count": 83,
   "metadata": {},
   "outputs": [],
   "source": [
    "#Closing type Morphological Transform\n",
    "close = cv2.morphologyEx( bin_inv, cv2.MORPH_CLOSE, k )"
   ]
  },
  {
   "cell_type": "markdown",
   "metadata": {},
   "source": [
    "> The below code is used to plot inverse binary thresholded image as well as closing image for comparison"
   ]
  },
  {
   "cell_type": "code",
   "execution_count": 84,
   "metadata": {},
   "outputs": [
    {
     "data": {
      "image/png": "[encoded data removed]",
      "text/plain": [
       "<Figure size 432x288 with 2 Axes>"
      ]
     },
     "metadata": {},
     "output_type": "display_data"
    }
   ],
   "source": [
    "#Plotting image using Matplotlib\n",
    "plt.subplot(1,2,1)\n",
    "plt.imshow( bin_inv, cmap ='gray' )\n",
    "plt.title(\"BinaryINV Thresh\")\n",
    "plt.xticks([ ])\n",
    "plt.yticks([ ])\n",
    "\n",
    "plt.subplot(1,2,2)\n",
    "plt.imshow( close, cmap ='gray' )\n",
    "plt.title(\"Closing\")\n",
    "plt.xticks([ ])\n",
    "plt.yticks([ ])\n",
    "plt.show()"
   ]
  },
  {
   "cell_type": "markdown",
   "metadata": {},
   "source": [
    "---\n",
    "## OPENING\n",
    "\n",
    "*THE OPENING OF AN THRESHOLDED INVERSE BINARY IMAGE IS AN IMAGE WHICH IS OBTAINED BY EROSION FOLLOWED BY DILATION*\n",
    "\n",
    "* The code below is used to get opening of an image\n",
    "* It is used to remove salt noise from an image"
   ]
  },
  {
   "cell_type": "code",
   "execution_count": 85,
   "metadata": {},
   "outputs": [],
   "source": [
    "#Open type Morphological Transform\n",
    "open = cv2.morphologyEx( bin_inv, cv2.MORPH_OPEN, k )"
   ]
  },
  {
   "cell_type": "markdown",
   "metadata": {},
   "source": [
    "> The below code is used to plot inverse binary thresholded image as well as open image for comparison"
   ]
  },
  {
   "cell_type": "code",
   "execution_count": 86,
   "metadata": {},
   "outputs": [
    {
     "data": {
      "image/png": "[encoded data removed]",
      "text/plain": [
       "<Figure size 432x288 with 2 Axes>"
      ]
     },
     "metadata": {},
     "output_type": "display_data"
    }
   ],
   "source": [
    "#Plotting image using Matplotlib\n",
    "plt.subplot(1,2,1)\n",
    "plt.imshow( bin_inv, cmap ='gray' )\n",
    "plt.title(\"BinaryINV Thresh\")\n",
    "plt.xticks([ ])\n",
    "plt.yticks([ ])\n",
    "\n",
    "plt.subplot(1,2,2)\n",
    "plt.imshow( open, cmap ='gray' )\n",
    "plt.title(\"opening\")\n",
    "plt.xticks([ ])\n",
    "plt.yticks([ ])\n",
    "plt.show()"
   ]
  }
 ],
 "metadata": {
  "kernelspec": {
   "display_name": "Python 3",
   "language": "python",
   "name": "python3"
  },
  "language_info": {
   "codemirror_mode": {
    "name": "ipython",
    "version": 3
   },
   "file_extension": ".py",
   "mimetype": "text/x-python",
   "name": "python",
   "nbconvert_exporter": "python",
   "pygments_lexer": "ipython3",
   "version": "3.7.2"
  }
 },
 "nbformat": 4,
 "nbformat_minor": 2
}
